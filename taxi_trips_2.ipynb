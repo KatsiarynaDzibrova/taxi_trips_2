{
  "nbformat": 4,
  "nbformat_minor": 0,
  "metadata": {
    "colab": {
      "name": "taxi_trips_2.ipynb",
      "provenance": [],
      "collapsed_sections": [],
      "authorship_tag": "ABX9TyOcHztyxF8aW0LiNOkSoCbI",
      "include_colab_link": true
    },
    "kernelspec": {
      "display_name": "Python 3",
      "name": "python3"
    }
  },
  "cells": [
    {
      "cell_type": "markdown",
      "metadata": {
        "id": "view-in-github",
        "colab_type": "text"
      },
      "source": [
        "<a href=\"https://colab.research.google.com/github/KatsiarynaDzibrova/taxi_trips_2/blob/main/taxi_trips_2.ipynb\" target=\"_parent\"><img src=\"https://colab.research.google.com/assets/colab-badge.svg\" alt=\"Open In Colab\"/></a>"
      ]
    },
    {
      "cell_type": "code",
      "metadata": {
        "colab": {
          "base_uri": "https://localhost:8080/"
        },
        "id": "WrNigzrfxs3B",
        "outputId": "a087b2d4-ef71-4c7e-c0c4-8ee2ac93da85"
      },
      "source": [
        "from google.colab import drive\n",
        "drive.mount('/content/drive')"
      ],
      "execution_count": null,
      "outputs": [
        {
          "output_type": "stream",
          "text": [
            "Drive already mounted at /content/drive; to attempt to forcibly remount, call drive.mount(\"/content/drive\", force_remount=True).\n"
          ],
          "name": "stdout"
        }
      ]
    },
    {
      "cell_type": "code",
      "metadata": {
        "id": "tKOv_K9szPVU"
      },
      "source": [
        "import pandas as pd\n",
        "from sklearn.model_selection import train_test_split\n",
        "import numpy as np\n",
        "import sklearn"
      ],
      "execution_count": null,
      "outputs": []
    },
    {
      "cell_type": "code",
      "metadata": {
        "colab": {
          "base_uri": "https://localhost:8080/"
        },
        "id": "FvXjo3Klc9Xj",
        "outputId": "f6a1ff37-e165-43d2-eed5-47d2312b47d6"
      },
      "source": [
        "!pip install catboost\n",
        "import catboost\n",
        "from catboost import CatBoostRegressor, cv, Pool"
      ],
      "execution_count": null,
      "outputs": [
        {
          "output_type": "stream",
          "text": [
            "Requirement already satisfied: catboost in /usr/local/lib/python3.6/dist-packages (0.24.4)\n",
            "Requirement already satisfied: matplotlib in /usr/local/lib/python3.6/dist-packages (from catboost) (3.2.2)\n",
            "Requirement already satisfied: pandas>=0.24.0 in /usr/local/lib/python3.6/dist-packages (from catboost) (1.1.5)\n",
            "Requirement already satisfied: plotly in /usr/local/lib/python3.6/dist-packages (from catboost) (4.4.1)\n",
            "Requirement already satisfied: scipy in /usr/local/lib/python3.6/dist-packages (from catboost) (1.4.1)\n",
            "Requirement already satisfied: graphviz in /usr/local/lib/python3.6/dist-packages (from catboost) (0.10.1)\n",
            "Requirement already satisfied: six in /usr/local/lib/python3.6/dist-packages (from catboost) (1.15.0)\n",
            "Requirement already satisfied: numpy>=1.16.0 in /usr/local/lib/python3.6/dist-packages (from catboost) (1.19.5)\n",
            "Requirement already satisfied: cycler>=0.10 in /usr/local/lib/python3.6/dist-packages (from matplotlib->catboost) (0.10.0)\n",
            "Requirement already satisfied: python-dateutil>=2.1 in /usr/local/lib/python3.6/dist-packages (from matplotlib->catboost) (2.8.1)\n",
            "Requirement already satisfied: pyparsing!=2.0.4,!=2.1.2,!=2.1.6,>=2.0.1 in /usr/local/lib/python3.6/dist-packages (from matplotlib->catboost) (2.4.7)\n",
            "Requirement already satisfied: kiwisolver>=1.0.1 in /usr/local/lib/python3.6/dist-packages (from matplotlib->catboost) (1.3.1)\n",
            "Requirement already satisfied: pytz>=2017.2 in /usr/local/lib/python3.6/dist-packages (from pandas>=0.24.0->catboost) (2018.9)\n",
            "Requirement already satisfied: retrying>=1.3.3 in /usr/local/lib/python3.6/dist-packages (from plotly->catboost) (1.3.3)\n"
          ],
          "name": "stdout"
        }
      ]
    },
    {
      "cell_type": "code",
      "metadata": {
        "id": "o3PcVK3lzBZ8"
      },
      "source": [
        "taxi_trips = pd.read_csv('/content/drive/My Drive/Taxi_Trips_-_2020.csv', parse_dates=['Trip Start Timestamp', 'Trip End Timestamp'])"
      ],
      "execution_count": null,
      "outputs": []
    },
    {
      "cell_type": "code",
      "metadata": {
        "id": "AN6HradGzRR1"
      },
      "source": [
        "taxi_trips= taxi_trips.rename({'Trip ID': 'trip_id', 'Taxi ID': 'taxi_id',\n",
        "                               'Trip Start Timestamp': 'trip_start_timestamp',\n",
        "                              'Trip End Timestamp': 'trip_end_timestamp',\n",
        "                              'Trip Seconds': 'trip_seconds', 'Trip Miles': 'trip_miles', \n",
        "                              'Pickup Census Tract': 'pickup_census_tract',\n",
        "                              'Dropoff Census Tract': 'dropoff_census_tract', 'Fare': 'fare',\n",
        "                              'Tips': 'tips', 'Tolls': 'tolls', 'Extras': 'extras', 'Trip Total': 'trip_total',\n",
        "                              'Pickup Community Area' : 'pickup_community_area',\n",
        "                              'Dropoff Community Area' : 'dropoff_community_area',\n",
        "                              'Payment Type': 'payment_type', 'Company': 'company', \n",
        "                              'Pickup Centroid Latitude': 'pickup_centroid_latitude',\n",
        "                              'Pickup Centroid Longitude': 'pickup_centroid_longitude',\n",
        "                              'Pickup Centroid Location': 'pickup_centroid_location',\n",
        "                              'Dropoff Centroid Latitude': 'dropoff_centroid_latitude',\n",
        "                              'Dropoff Centroid Longitude':'dropoff_centroid_longitude',\n",
        "                              'Dropoff Centroid  Location': 'dropoff_centroid_location'}, axis=1)"
      ],
      "execution_count": null,
      "outputs": []
    },
    {
      "cell_type": "code",
      "metadata": {
        "id": "hHjtFwsq3PTd"
      },
      "source": [
        "taxi_trips = taxi_trips.drop(columns=['pickup_census_tract', 'dropoff_census_tract', 'trip_id', 'taxi_id', 'trip_end_timestamp', 'tips', 'tolls', 'extras', 'trip_total', 'payment_type', 'fare', 'pickup_centroid_location', 'dropoff_centroid_location'])"
      ],
      "execution_count": null,
      "outputs": []
    },
    {
      "cell_type": "code",
      "metadata": {
        "id": "4Hvc7wgNfyyd"
      },
      "source": [
        "taxi_trips = taxi_trips.dropna(subset=['trip_seconds'])"
      ],
      "execution_count": null,
      "outputs": []
    },
    {
      "cell_type": "code",
      "metadata": {
        "id": "kgqpU_zS2ZsZ",
        "colab": {
          "base_uri": "https://localhost:8080/",
          "height": 609
        },
        "outputId": "127b0af2-0b7d-48f3-8814-bce6b557ea5e"
      },
      "source": [
        "taxi_trips"
      ],
      "execution_count": null,
      "outputs": [
        {
          "output_type": "execute_result",
          "data": {
            "text/html": [
              "<div>\n",
              "<style scoped>\n",
              "    .dataframe tbody tr th:only-of-type {\n",
              "        vertical-align: middle;\n",
              "    }\n",
              "\n",
              "    .dataframe tbody tr th {\n",
              "        vertical-align: top;\n",
              "    }\n",
              "\n",
              "    .dataframe thead th {\n",
              "        text-align: right;\n",
              "    }\n",
              "</style>\n",
              "<table border=\"1\" class=\"dataframe\">\n",
              "  <thead>\n",
              "    <tr style=\"text-align: right;\">\n",
              "      <th></th>\n",
              "      <th>trip_start_timestamp</th>\n",
              "      <th>trip_seconds</th>\n",
              "      <th>trip_miles</th>\n",
              "      <th>pickup_community_area</th>\n",
              "      <th>dropoff_community_area</th>\n",
              "      <th>company</th>\n",
              "      <th>pickup_centroid_latitude</th>\n",
              "      <th>pickup_centroid_longitude</th>\n",
              "      <th>dropoff_centroid_latitude</th>\n",
              "      <th>dropoff_centroid_longitude</th>\n",
              "    </tr>\n",
              "  </thead>\n",
              "  <tbody>\n",
              "    <tr>\n",
              "      <th>0</th>\n",
              "      <td>2020-01-01</td>\n",
              "      <td>240.0</td>\n",
              "      <td>0.60</td>\n",
              "      <td>8.0</td>\n",
              "      <td>8.0</td>\n",
              "      <td>Choice Taxi Association</td>\n",
              "      <td>41.899602</td>\n",
              "      <td>-87.633308</td>\n",
              "      <td>41.899602</td>\n",
              "      <td>-87.633308</td>\n",
              "    </tr>\n",
              "    <tr>\n",
              "      <th>1</th>\n",
              "      <td>2020-01-01</td>\n",
              "      <td>600.0</td>\n",
              "      <td>1.00</td>\n",
              "      <td>8.0</td>\n",
              "      <td>8.0</td>\n",
              "      <td>Star North Management LLC</td>\n",
              "      <td>41.892042</td>\n",
              "      <td>-87.631864</td>\n",
              "      <td>41.895033</td>\n",
              "      <td>-87.619711</td>\n",
              "    </tr>\n",
              "    <tr>\n",
              "      <th>2</th>\n",
              "      <td>2020-01-01</td>\n",
              "      <td>383.0</td>\n",
              "      <td>0.69</td>\n",
              "      <td>8.0</td>\n",
              "      <td>8.0</td>\n",
              "      <td>Flash Cab</td>\n",
              "      <td>41.895033</td>\n",
              "      <td>-87.619711</td>\n",
              "      <td>41.898332</td>\n",
              "      <td>-87.620763</td>\n",
              "    </tr>\n",
              "    <tr>\n",
              "      <th>3</th>\n",
              "      <td>2020-01-01</td>\n",
              "      <td>1861.0</td>\n",
              "      <td>3.16</td>\n",
              "      <td>8.0</td>\n",
              "      <td>32.0</td>\n",
              "      <td>City Service</td>\n",
              "      <td>41.899156</td>\n",
              "      <td>-87.626211</td>\n",
              "      <td>41.877406</td>\n",
              "      <td>-87.621972</td>\n",
              "    </tr>\n",
              "    <tr>\n",
              "      <th>4</th>\n",
              "      <td>2020-01-01</td>\n",
              "      <td>960.0</td>\n",
              "      <td>11.10</td>\n",
              "      <td>76.0</td>\n",
              "      <td>21.0</td>\n",
              "      <td>Star North Management LLC</td>\n",
              "      <td>41.980264</td>\n",
              "      <td>-87.913625</td>\n",
              "      <td>41.938666</td>\n",
              "      <td>-87.711211</td>\n",
              "    </tr>\n",
              "    <tr>\n",
              "      <th>...</th>\n",
              "      <td>...</td>\n",
              "      <td>...</td>\n",
              "      <td>...</td>\n",
              "      <td>...</td>\n",
              "      <td>...</td>\n",
              "      <td>...</td>\n",
              "      <td>...</td>\n",
              "      <td>...</td>\n",
              "      <td>...</td>\n",
              "      <td>...</td>\n",
              "    </tr>\n",
              "    <tr>\n",
              "      <th>3597302</th>\n",
              "      <td>2020-11-01</td>\n",
              "      <td>660.0</td>\n",
              "      <td>0.30</td>\n",
              "      <td>76.0</td>\n",
              "      <td>NaN</td>\n",
              "      <td>Blue Ribbon Taxi Association Inc.</td>\n",
              "      <td>41.980264</td>\n",
              "      <td>-87.913625</td>\n",
              "      <td>NaN</td>\n",
              "      <td>NaN</td>\n",
              "    </tr>\n",
              "    <tr>\n",
              "      <th>3597303</th>\n",
              "      <td>2020-11-01</td>\n",
              "      <td>373.0</td>\n",
              "      <td>2.61</td>\n",
              "      <td>6.0</td>\n",
              "      <td>3.0</td>\n",
              "      <td>Flash Cab</td>\n",
              "      <td>41.944227</td>\n",
              "      <td>-87.655998</td>\n",
              "      <td>41.965812</td>\n",
              "      <td>-87.655879</td>\n",
              "    </tr>\n",
              "    <tr>\n",
              "      <th>3597304</th>\n",
              "      <td>2020-11-01</td>\n",
              "      <td>2654.0</td>\n",
              "      <td>7.38</td>\n",
              "      <td>8.0</td>\n",
              "      <td>38.0</td>\n",
              "      <td>Flash Cab</td>\n",
              "      <td>41.899602</td>\n",
              "      <td>-87.633308</td>\n",
              "      <td>41.812949</td>\n",
              "      <td>-87.617860</td>\n",
              "    </tr>\n",
              "    <tr>\n",
              "      <th>3597305</th>\n",
              "      <td>2020-11-01</td>\n",
              "      <td>300.0</td>\n",
              "      <td>0.50</td>\n",
              "      <td>8.0</td>\n",
              "      <td>8.0</td>\n",
              "      <td>Taxi Affiliation Services</td>\n",
              "      <td>41.899602</td>\n",
              "      <td>-87.633308</td>\n",
              "      <td>41.899602</td>\n",
              "      <td>-87.633308</td>\n",
              "    </tr>\n",
              "    <tr>\n",
              "      <th>3597306</th>\n",
              "      <td>2020-11-01</td>\n",
              "      <td>219.0</td>\n",
              "      <td>1.03</td>\n",
              "      <td>7.0</td>\n",
              "      <td>8.0</td>\n",
              "      <td>Sun Taxi</td>\n",
              "      <td>41.922686</td>\n",
              "      <td>-87.649489</td>\n",
              "      <td>41.899602</td>\n",
              "      <td>-87.633308</td>\n",
              "    </tr>\n",
              "  </tbody>\n",
              "</table>\n",
              "<p>3595944 rows × 10 columns</p>\n",
              "</div>"
            ],
            "text/plain": [
              "        trip_start_timestamp  ...  dropoff_centroid_longitude\n",
              "0                 2020-01-01  ...                  -87.633308\n",
              "1                 2020-01-01  ...                  -87.619711\n",
              "2                 2020-01-01  ...                  -87.620763\n",
              "3                 2020-01-01  ...                  -87.621972\n",
              "4                 2020-01-01  ...                  -87.711211\n",
              "...                      ...  ...                         ...\n",
              "3597302           2020-11-01  ...                         NaN\n",
              "3597303           2020-11-01  ...                  -87.655879\n",
              "3597304           2020-11-01  ...                  -87.617860\n",
              "3597305           2020-11-01  ...                  -87.633308\n",
              "3597306           2020-11-01  ...                  -87.633308\n",
              "\n",
              "[3595944 rows x 10 columns]"
            ]
          },
          "metadata": {
            "tags": []
          },
          "execution_count": 24
        }
      ]
    },
    {
      "cell_type": "markdown",
      "metadata": {
        "id": "9aCMXzqq4xd8"
      },
      "source": [
        "## 1. CatBoost"
      ]
    },
    {
      "cell_type": "markdown",
      "metadata": {
        "id": "obFUw6UepPiE"
      },
      "source": [
        "1.1. Without standartization"
      ]
    },
    {
      "cell_type": "code",
      "metadata": {
        "id": "-_G8GftW5BXD"
      },
      "source": [
        "taxi_trips_mean = taxi_trips.copy()"
      ],
      "execution_count": null,
      "outputs": []
    },
    {
      "cell_type": "code",
      "metadata": {
        "id": "3nlSUNKt42nx",
        "colab": {
          "base_uri": "https://localhost:8080/"
        },
        "outputId": "352b1af3-d48d-4f05-c07e-697efc47be54"
      },
      "source": [
        "for col in taxi_trips_mean.columns:\n",
        "  print(col)\n",
        "  if col == 'company': \n",
        "    to_fill = ''\n",
        "    print('comp')\n",
        "  elif  col in ['pickup_community_area','dropoff_community_area', 'pickup_census_tract', 'dropoff_census_tract']:\n",
        "    to_fill = 0\n",
        "  else: to_fill = taxi_trips_mean[col].mean()\n",
        "  print(to_fill, taxi_trips_mean[col].isna().count())\n",
        "  taxi_trips_mean[col] = taxi_trips_mean[col].fillna(to_fill)"
      ],
      "execution_count": null,
      "outputs": [
        {
          "output_type": "stream",
          "text": [
            "trip_start_timestamp\n",
            "2020-03-22 09:22:47.954599936 3595944\n",
            "trip_seconds\n",
            "857.8193456294091 3595944\n",
            "trip_miles\n",
            "3.5871026881545762 3595944\n",
            "pickup_community_area\n",
            "0 3595944\n",
            "dropoff_community_area\n",
            "0 3595944\n",
            "company\n",
            "comp\n",
            " 3595944\n",
            "pickup_centroid_latitude\n",
            "41.896338412863585 3595944\n",
            "pickup_centroid_longitude\n",
            "-87.66575581234449 3595944\n",
            "dropoff_centroid_latitude\n",
            "41.89468724043545 3595944\n",
            "dropoff_centroid_longitude\n",
            "-87.65267616351382 3595944\n"
          ],
          "name": "stdout"
        }
      ]
    },
    {
      "cell_type": "code",
      "metadata": {
        "id": "5T_i6c_Pig68"
      },
      "source": [
        "taxi_trips_mean.pickup_community_area = taxi_trips_mean.pickup_community_area.map(int)\n",
        "taxi_trips_mean.dropoff_community_area = taxi_trips_mean.dropoff_community_area.map(int)"
      ],
      "execution_count": null,
      "outputs": []
    },
    {
      "cell_type": "code",
      "metadata": {
        "id": "oWXj4Fmj4UvG"
      },
      "source": [
        "taxi_trips_mean['hour'] = taxi_trips_mean.trip_start_timestamp.dt.hour\n",
        "taxi_trips_mean['weekday'] = taxi_trips_mean.trip_start_timestamp.dt.weekday\n",
        "taxi_trips_mean['dayofyear'] = taxi_trips.trip_start_timestamp.dt.dayofyear"
      ],
      "execution_count": null,
      "outputs": []
    },
    {
      "cell_type": "code",
      "metadata": {
        "id": "7ccVTiwbcsZC"
      },
      "source": [
        "y = taxi_trips_mean.trip_seconds\n",
        "X = taxi_trips_mean.drop(['trip_seconds'],axis=1)"
      ],
      "execution_count": null,
      "outputs": []
    },
    {
      "cell_type": "code",
      "metadata": {
        "id": "C0Ok8FV5bhCd"
      },
      "source": [
        "def learn(X_train, X_test, y_train, y_test):\n",
        "  categorical_features_indices = np.where((X_train.dtypes == np.bool) | (X_train.dtypes == np.object))[0]\n",
        "  for i in range(len(X_train.columns)):\n",
        "    if (X_train.columns[i] in ['pickup_community_area','dropoff_community_area', 'pickup_census_tract', 'dropoff_census_tract']):\n",
        "      categorical_features_indices = np.append(categorical_features_indices, i)\n",
        "  print(categorical_features_indices)\n",
        "  model = CatBoostRegressor(\n",
        "        learning_rate=0.01,\n",
        "        depth=11,\n",
        "        l2_leaf_reg=43,\n",
        "        iterations=100,\n",
        "        min_data_in_leaf=12,\n",
        "        per_float_feature_quantization=['0:border_count=1024'],\n",
        "        random_strength=16,\n",
        "        od_wait=20,\n",
        "        random_seed=42,\n",
        "        verbose=20,\n",
        "    )\n",
        "  model.fit(X_train, y_train, cat_features=categorical_features_indices, eval_set=(X_test, y_test))\n",
        "  pred = model.predict(X_test)\n",
        "  print(model.get_feature_importance())\n",
        "  return sklearn.metrics.mean_absolute_error(y_test, pred)"
      ],
      "execution_count": null,
      "outputs": []
    },
    {
      "cell_type": "code",
      "metadata": {
        "colab": {
          "base_uri": "https://localhost:8080/"
        },
        "id": "3maRI8O4ckp5",
        "outputId": "54446d54-8295-4364-d28b-0766d10846d5"
      },
      "source": [
        "X_train, X_test, y_train, y_test = train_test_split(X, y, test_size=0.33, random_state=42)\n",
        "error_third = learn(X_train, X_test, y_train, y_test)"
      ],
      "execution_count": null,
      "outputs": [
        {
          "output_type": "stream",
          "text": [
            "[4 2 3]\n",
            "0:\tlearn: 1628.1335334\ttest: 1676.9328396\tbest: 1676.9328396 (0)\ttotal: 1.49s\tremaining: 2m 27s\n",
            "20:\tlearn: 1563.1805878\ttest: 1618.5902208\tbest: 1618.5902208 (20)\ttotal: 27.1s\tremaining: 1m 41s\n",
            "40:\tlearn: 1542.4255355\ttest: 1603.7818113\tbest: 1603.7818113 (40)\ttotal: 49.6s\tremaining: 1m 11s\n",
            "60:\tlearn: 1522.4501183\ttest: 1592.8852109\tbest: 1592.8852109 (60)\ttotal: 1m 14s\tremaining: 47.7s\n",
            "80:\tlearn: 1512.4612733\ttest: 1587.2684535\tbest: 1587.2684535 (80)\ttotal: 1m 37s\tremaining: 22.8s\n",
            "99:\tlearn: 1504.7262384\ttest: 1583.4515709\tbest: 1583.4335836 (98)\ttotal: 1m 59s\tremaining: 0us\n",
            "\n",
            "bestTest = 1583.433584\n",
            "bestIteration = 98\n",
            "\n",
            "Shrink model to first 99 iterations.\n"
          ],
          "name": "stdout"
        }
      ]
    },
    {
      "cell_type": "code",
      "metadata": {
        "colab": {
          "base_uri": "https://localhost:8080/"
        },
        "id": "3PQuflJakYUZ",
        "outputId": "df6cb543-7be8-4715-c1fd-0315dc100c05"
      },
      "source": [
        "X_train, X_test, y_train, y_test = train_test_split(X, y, test_size=0.1, random_state=42)\n",
        "error_tenth = learn(X_train, X_test, y_train, y_test)"
      ],
      "execution_count": null,
      "outputs": [
        {
          "output_type": "stream",
          "text": [
            "[4 2 3]\n",
            "0:\tlearn: 1638.7321819\ttest: 1668.2188579\tbest: 1668.2188579 (0)\ttotal: 1.92s\tremaining: 3m 10s\n",
            "20:\tlearn: 1573.1201458\ttest: 1605.7449353\tbest: 1605.7449353 (20)\ttotal: 31.9s\tremaining: 1m 59s\n",
            "40:\tlearn: 1548.8089621\ttest: 1585.8347277\tbest: 1585.8347277 (40)\ttotal: 1m 4s\tremaining: 1m 33s\n",
            "60:\tlearn: 1529.1199726\ttest: 1574.2297337\tbest: 1574.2297337 (60)\ttotal: 1m 39s\tremaining: 1m 3s\n",
            "80:\tlearn: 1514.7389914\ttest: 1567.9024282\tbest: 1567.9024282 (80)\ttotal: 2m 15s\tremaining: 31.7s\n",
            "99:\tlearn: 1506.5879238\ttest: 1565.8100268\tbest: 1565.6288098 (98)\ttotal: 2m 48s\tremaining: 0us\n",
            "\n",
            "bestTest = 1565.62881\n",
            "bestIteration = 98\n",
            "\n",
            "Shrink model to first 99 iterations.\n"
          ],
          "name": "stdout"
        }
      ]
    },
    {
      "cell_type": "code",
      "metadata": {
        "colab": {
          "base_uri": "https://localhost:8080/"
        },
        "id": "ae7OG7lljw8b",
        "outputId": "824b1907-6266-4e90-f3e1-00c940c542dc"
      },
      "source": [
        "error_third"
      ],
      "execution_count": null,
      "outputs": [
        {
          "output_type": "execute_result",
          "data": {
            "text/plain": [
              "305.997996010371"
            ]
          },
          "metadata": {
            "tags": []
          },
          "execution_count": 38
        }
      ]
    },
    {
      "cell_type": "code",
      "metadata": {
        "colab": {
          "base_uri": "https://localhost:8080/"
        },
        "id": "jyIOLjjVkdq6",
        "outputId": "edb987c6-9304-4e85-9a27-98b9679b8521"
      },
      "source": [
        "error_tenth"
      ],
      "execution_count": null,
      "outputs": [
        {
          "output_type": "execute_result",
          "data": {
            "text/plain": [
              "301.53415080621374"
            ]
          },
          "metadata": {
            "tags": []
          },
          "execution_count": 40
        }
      ]
    },
    {
      "cell_type": "markdown",
      "metadata": {
        "id": "tqRnECD7lVJU"
      },
      "source": [
        "### 2.1. With standartization"
      ]
    },
    {
      "cell_type": "code",
      "metadata": {
        "id": "GYzrP5GwlUIO"
      },
      "source": [
        "from sklearn.preprocessing import StandardScaler\n",
        "scaler = StandardScaler()\n",
        "for col in X.columns:\n",
        "  if  col in ['company', 'pickup_community_area','dropoff_community_area', 'pickup_census_tract', 'dropoff_census_tract', 'trip_start_timestamp']:\n",
        "    continue\n",
        "  x = pd.DataFrame(X[col])\n",
        "  scaler = preprocessing.StandardScaler()\n",
        "  x_scaled = scaler.fit_transform(x)\n",
        "  X[col] = x_scaled"
      ],
      "execution_count": null,
      "outputs": []
    },
    {
      "cell_type": "code",
      "metadata": {
        "colab": {
          "base_uri": "https://localhost:8080/"
        },
        "id": "YwdBSfAQrFee",
        "outputId": "ae46b490-0c9b-4cc6-8306-cc4aae806c68"
      },
      "source": [
        "X_train, X_test, y_train, y_test = train_test_split(X, y, test_size=0.1, random_state=42)\n",
        "error_tenth = learn(X_train, X_test, y_train, y_test)\n",
        "error_tenth"
      ],
      "execution_count": null,
      "outputs": [
        {
          "output_type": "stream",
          "text": [
            "[4 2 3]\n",
            "0:\tlearn: 1711.6464913\ttest: 1739.9478078\tbest: 1739.9478078 (0)\ttotal: 1.82s\tremaining: 3m\n",
            "20:\tlearn: 1679.8810952\ttest: 1708.7826795\tbest: 1708.7826795 (20)\ttotal: 37.3s\tremaining: 2m 20s\n",
            "40:\tlearn: 1657.3797999\ttest: 1686.7722235\tbest: 1686.7722235 (40)\ttotal: 1m 12s\tremaining: 1m 44s\n",
            "60:\tlearn: 1641.0860159\ttest: 1670.8758524\tbest: 1670.8758524 (60)\ttotal: 1m 47s\tremaining: 1m 8s\n",
            "80:\tlearn: 1629.3298990\ttest: 1659.3588214\tbest: 1659.3588214 (80)\ttotal: 2m 23s\tremaining: 33.7s\n",
            "99:\tlearn: 1621.0959505\ttest: 1651.3744683\tbest: 1651.3744683 (99)\ttotal: 2m 56s\tremaining: 0us\n",
            "\n",
            "bestTest = 1651.374468\n",
            "bestIteration = 99\n",
            "\n",
            "[ 1.08763526 52.71109436  0.          0.          0.          7.78823472\n",
            " 13.62381057  8.19206058 10.52023962  3.99478509  1.03370761  1.04843218]\n"
          ],
          "name": "stdout"
        },
        {
          "output_type": "execute_result",
          "data": {
            "text/plain": [
              "393.3286144516205"
            ]
          },
          "metadata": {
            "tags": []
          },
          "execution_count": 35
        }
      ]
    }
  ]
}